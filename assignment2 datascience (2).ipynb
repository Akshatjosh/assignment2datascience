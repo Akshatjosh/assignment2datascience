{
 "cells": [
  {
   "cell_type": "code",
   "execution_count": 6,
   "id": "7151bc53-f983-468c-a54d-178440480b77",
   "metadata": {},
   "outputs": [
    {
     "name": "stdin",
     "output_type": "stream",
     "text": [
      "enter percentage 88\n"
     ]
    },
    {
     "name": "stdout",
     "output_type": "stream",
     "text": [
      "B\n"
     ]
    }
   ],
   "source": [
    "Question 1 :-\n",
    "Answer 1 :-\n",
    "m=int(input(\"enter percentage\"))\n",
    "if(m>90) :\n",
    "   print(\"A\")\n",
    "elif(m>80 and m<=90) :\n",
    "    print(\"B\")\n",
    "elif(m>=60 and m<=80) :\n",
    "    print(\"C\")\n",
    "else :\n",
    "    print(\"D\")"
   ]
  },
  {
   "cell_type": "code",
   "execution_count": null,
   "id": "4379c824-a6fc-49b4-a672-429c3d911434",
   "metadata": {},
   "outputs": [],
   "source": []
  },
  {
   "cell_type": "code",
   "execution_count": 8,
   "id": "18217f6d-3aa7-4f80-bd35-4c9da846e95c",
   "metadata": {},
   "outputs": [
    {
     "name": "stdin",
     "output_type": "stream",
     "text": [
      "enter percentage 120000\n"
     ]
    },
    {
     "name": "stdout",
     "output_type": "stream",
     "text": [
      "138000.0\n"
     ]
    }
   ],
   "source": [
    "Question 2-\n",
    "Answer 2-\n",
    "cp=int(input(\"enter percentage\"))\n",
    "if(cp>100000) :\n",
    "   print((15/100)*cp+cp)\n",
    "elif(cp>50000 and cp<=100000) :\n",
    "    print((10/100)*cp+cp)\n",
    "else :\n",
    "    print((5/100)*cp+cp)"
   ]
  },
  {
   "cell_type": "code",
   "execution_count": 13,
   "id": "3c79f334-a9c7-45f8-b5c1-9b97211f7c15",
   "metadata": {},
   "outputs": [
    {
     "name": "stdin",
     "output_type": "stream",
     "text": [
      "enter city to see monument Jaipur\n"
     ]
    },
    {
     "name": "stdout",
     "output_type": "stream",
     "text": [
      "Jal Mahal\n"
     ]
    }
   ],
   "source": [
    "Question 3-\n",
    "Answer 3-\n",
    "city=input(\"enter city to see monument\")\n",
    "if(city==\"Delhi\") :\n",
    "  print(\"Red Fort\")\n",
    "elif(city==\"Agra\") :\n",
    "    print(\"Taj Mahal\")\n",
    "elif(city==\"Jaipur\") :\n",
    "    print(\"Jal Mahal\")\n",
    "else :\n",
    "    print(\"Not Found\")"
   ]
  },
  {
   "cell_type": "code",
   "execution_count": 49,
   "id": "6819b6bd-72fc-4b37-aa62-f159d061a796",
   "metadata": {},
   "outputs": [
    {
     "name": "stdin",
     "output_type": "stream",
     "text": [
      "Enter a number:  9\n"
     ]
    },
    {
     "name": "stdout",
     "output_type": "stream",
     "text": [
      "2\n"
     ]
    }
   ],
   "source": [
    "Question 4-\n",
    "Answer 4-\n",
    "num = int(input(\"Enter a number: \"))\n",
    "a = 0\n",
    "if num <= 10:\n",
    "    while num > 1:\n",
    "        if num % 3 == 0:\n",
    "            a = a + 1\n",
    "        num = num / 3\n",
    "    print(a)\n",
    "else:\n",
    "    print(\"Number is greater than 10, can't find.\")\n",
    "\n"
   ]
  },
  {
   "cell_type": "code",
   "execution_count": null,
   "id": "75d8995b-bbc1-45d1-ba14-18ab1cd2472d",
   "metadata": {},
   "outputs": [],
   "source": [
    "Question 5- Why and when to use while loop in python give a detailed description with example ?\n",
    "Answer 5- A While Loop is used to repeat a specific block of code an unknown number of times, until a condition is met. \n",
    "For example \n",
    "n = int(input(\"Enter a positive integer: \"))\n",
    "sum = 0\n",
    "i = 1\n",
    "while i <= n:\n",
    "    sum = sum + i\n",
    "    i = i + 1\n",
    "print(\"The sum of the first\", n, \"natural numbers is\", sum)\n",
    "When to use while loops:\n",
    "\n",
    "When you want to repeat a set of statements an unknown number of times until a certain condition is met.\n",
    "When you want to repeatedly prompt the user for input until they enter valid data.\n",
    "When you want to keep track of the number of iterations in a loop.\n",
    "When you want to perform some operation until a specific result is achieved.\n"
   ]
  },
  {
   "cell_type": "code",
   "execution_count": 60,
   "id": "a7d0864d-1a59-4e6a-b4a0-c2de5d985347",
   "metadata": {},
   "outputs": [
    {
     "name": "stdout",
     "output_type": "stream",
     "text": [
      "10\n",
      "9\n",
      "8\n",
      "7\n",
      "6\n",
      "5\n",
      "4\n",
      "3\n",
      "2\n",
      "1\n"
     ]
    }
   ],
   "source": [
    "Question 7-\n",
    "Answer 7-\n",
    "num=10\n",
    "while(num>=1) :\n",
    "    print(num)\n",
    "    num=num-1\n",
    "        "
   ]
  },
  {
   "cell_type": "code",
   "execution_count": null,
   "id": "14d6bb3e-9938-40c7-8b62-617daef42611",
   "metadata": {},
   "outputs": [],
   "source": []
  },
  {
   "cell_type": "code",
   "execution_count": null,
   "id": "2a2a6272-fe7b-4437-a596-a52f494e81f9",
   "metadata": {},
   "outputs": [],
   "source": []
  }
 ],
 "metadata": {
  "kernelspec": {
   "display_name": "Python 3 (ipykernel)",
   "language": "python",
   "name": "python3"
  },
  "language_info": {
   "codemirror_mode": {
    "name": "ipython",
    "version": 3
   },
   "file_extension": ".py",
   "mimetype": "text/x-python",
   "name": "python",
   "nbconvert_exporter": "python",
   "pygments_lexer": "ipython3",
   "version": "3.10.6"
  }
 },
 "nbformat": 4,
 "nbformat_minor": 5
}
